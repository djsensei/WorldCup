{
 "metadata": {
  "name": "",
  "signature": "sha256:48f7d7c2e11f0a3fb58fa4344242ac61120f7c0e72766a13bcf21d28ecfe741b"
 },
 "nbformat": 3,
 "nbformat_minor": 0,
 "worksheets": [
  {
   "cells": [
    {
     "cell_type": "code",
     "collapsed": false,
     "input": [
      "import os\n",
      "from bracket import Bracket"
     ],
     "language": "python",
     "metadata": {},
     "outputs": [],
     "prompt_number": 1
    },
    {
     "cell_type": "code",
     "collapsed": false,
     "input": [
      "INPUT_DIR = os.path.join('submissions', 'csv')"
     ],
     "language": "python",
     "metadata": {},
     "outputs": [],
     "prompt_number": 2
    },
    {
     "cell_type": "code",
     "collapsed": false,
     "input": [
      "file_names = os.listdir(INPUT_DIR)"
     ],
     "language": "python",
     "metadata": {},
     "outputs": [],
     "prompt_number": 3
    },
    {
     "cell_type": "markdown",
     "metadata": {},
     "source": [
      "# Load brackets"
     ]
    },
    {
     "cell_type": "code",
     "collapsed": false,
     "input": [
      "file_names = os.listdir(INPUT_DIR)"
     ],
     "language": "python",
     "metadata": {},
     "outputs": [],
     "prompt_number": 21
    },
    {
     "cell_type": "code",
     "collapsed": false,
     "input": [
      "all_brackets = {}\n",
      "for ifile in file_names: \n",
      "    print 'processing ', ifile\n",
      "    fname = os.path.join(INPUT_DIR, ifile)\n",
      "    bracket = Bracket(fname)\n",
      "    all_brackets[ifile] = bracket\n"
     ],
     "language": "python",
     "metadata": {},
     "outputs": [
      {
       "output_type": "stream",
       "stream": "stdout",
       "text": [
        "processing  DanMorris.csv\n",
        "processing "
       ]
      },
      {
       "output_type": "stream",
       "stream": "stdout",
       "text": [
        " DavidDunlop.csv\n",
        "processing "
       ]
      },
      {
       "output_type": "stream",
       "stream": "stdout",
       "text": [
        " DanielYaffe.csv\n",
        "processing "
       ]
      },
      {
       "output_type": "stream",
       "stream": "stdout",
       "text": [
        " EliMenaker.csv\n",
        "processing "
       ]
      },
      {
       "output_type": "stream",
       "stream": "stdout",
       "text": [
        " FarzinLalezari.csv\n",
        "processing "
       ]
      },
      {
       "output_type": "stream",
       "stream": "stdout",
       "text": [
        " ArianLalezari.csv\n",
        "processing "
       ]
      },
      {
       "output_type": "stream",
       "stream": "stdout",
       "text": [
        " MattJohnson.csv\n",
        "processing "
       ]
      },
      {
       "output_type": "stream",
       "stream": "stdout",
       "text": [
        " ChristopherBrown.csv\n",
        "processing "
       ]
      },
      {
       "output_type": "stream",
       "stream": "stdout",
       "text": [
        " AmerHandan.csv\n",
        "processing "
       ]
      },
      {
       "output_type": "stream",
       "stream": "stdout",
       "text": [
        " MonicaGagnon.csv\n",
        "processing "
       ]
      },
      {
       "output_type": "stream",
       "stream": "stdout",
       "text": [
        " MattFrantz.csv\n",
        "processing "
       ]
      },
      {
       "output_type": "stream",
       "stream": "stdout",
       "text": [
        " TiffanyAnn.csv\n",
        "processing "
       ]
      },
      {
       "output_type": "stream",
       "stream": "stdout",
       "text": [
        " RobertGarrow.csv\n",
        "processing "
       ]
      },
      {
       "output_type": "stream",
       "stream": "stdout",
       "text": [
        " MichaelBlackwell-Tompkins.csv\n",
        "processing "
       ]
      },
      {
       "output_type": "stream",
       "stream": "stdout",
       "text": [
        " MichalKlos.csv\n",
        "processing "
       ]
      },
      {
       "output_type": "stream",
       "stream": "stdout",
       "text": [
        " AnyaKandel.csv\n",
        "processing "
       ]
      },
      {
       "output_type": "stream",
       "stream": "stdout",
       "text": [
        " NateGagnon.csv\n",
        "processing "
       ]
      },
      {
       "output_type": "stream",
       "stream": "stdout",
       "text": [
        " AshleyLalezari.csv\n",
        "processing "
       ]
      },
      {
       "output_type": "stream",
       "stream": "stdout",
       "text": [
        " DavidOnne.csv\n",
        "processing "
       ]
      },
      {
       "output_type": "stream",
       "stream": "stdout",
       "text": [
        " AmanAhuja.csv\n",
        "processing "
       ]
      },
      {
       "output_type": "stream",
       "stream": "stdout",
       "text": [
        " ManishaDaryani.csv\n",
        "processing "
       ]
      },
      {
       "output_type": "stream",
       "stream": "stdout",
       "text": [
        " DavidMorley.csv\n",
        "processing "
       ]
      },
      {
       "output_type": "stream",
       "stream": "stdout",
       "text": [
        " SandyNader.csv\n",
        "processing "
       ]
      },
      {
       "output_type": "stream",
       "stream": "stdout",
       "text": [
        " SamLouis.csv\n",
        "processing "
       ]
      },
      {
       "output_type": "stream",
       "stream": "stdout",
       "text": [
        " ShireenGarrow.csv\n",
        "processing "
       ]
      },
      {
       "output_type": "stream",
       "stream": "stdout",
       "text": [
        " AlexBarlow.csv\n",
        "processing "
       ]
      },
      {
       "output_type": "stream",
       "stream": "stdout",
       "text": [
        " DarrenMace.csv\n",
        "processing "
       ]
      },
      {
       "output_type": "stream",
       "stream": "stdout",
       "text": [
        " AdamDyer.csv\n"
       ]
      }
     ],
     "prompt_number": 26
    },
    {
     "cell_type": "markdown",
     "metadata": {},
     "source": [
      "# Get Champions chosen"
     ]
    },
    {
     "cell_type": "code",
     "collapsed": false,
     "input": [
      "import pandas as pd"
     ],
     "language": "python",
     "metadata": {},
     "outputs": [],
     "prompt_number": 27
    },
    {
     "cell_type": "code",
     "collapsed": false,
     "input": [
      "final_picks = []\n",
      "for ifile, bracket in all_brackets.iteritems(): \n",
      "    final_picks += bracket.knockout_picks['1']"
     ],
     "language": "python",
     "metadata": {},
     "outputs": [],
     "prompt_number": 28
    },
    {
     "cell_type": "code",
     "collapsed": false,
     "input": [
      "from collections import Counter\n",
      "final_picks_counter = Counter(final_picks)\n",
      "print final_picks_counter"
     ],
     "language": "python",
     "metadata": {},
     "outputs": [
      {
       "output_type": "stream",
       "stream": "stdout",
       "text": [
        "Counter({'Brazil': 10, 'Germany': 7, 'Argentina': 5, 'Spain': 3, 'Netherlands': 1, 'Uruguay': 1, 'Switzerland': 1})\n"
       ]
      }
     ],
     "prompt_number": 29
    },
    {
     "cell_type": "code",
     "collapsed": false,
     "input": [
      "s = pd.Series (final_picks)\n",
      "final_picks_counter = s.value_counts()"
     ],
     "language": "python",
     "metadata": {},
     "outputs": [],
     "prompt_number": 30
    },
    {
     "cell_type": "code",
     "collapsed": false,
     "input": [
      "final_picks_counter.plot(kind='bar')\n",
      "title('Countries picked to win World Cup')"
     ],
     "language": "python",
     "metadata": {},
     "outputs": [
      {
       "metadata": {},
       "output_type": "pyout",
       "prompt_number": 31,
       "text": [
        "<matplotlib.text.Text at 0x414fe90>"
       ]
      },
      {
       "metadata": {},
       "output_type": "display_data",
       "png": "[encoded data removed]",
       "text": [
        "<matplotlib.figure.Figure at 0x4137410>"
       ]
      }
     ],
     "prompt_number": 31
    },
    {
     "cell_type": "markdown",
     "metadata": {},
     "source": [
      "## Countries that will make the finals"
     ]
    },
    {
     "cell_type": "code",
     "collapsed": false,
     "input": [
      "semi_picks = []\n",
      "for ifile, bracket in all_brackets.iteritems(): \n",
      "    semi_picks += bracket.knockout_picks['2']"
     ],
     "language": "python",
     "metadata": {},
     "outputs": [],
     "prompt_number": 32
    },
    {
     "cell_type": "code",
     "collapsed": false,
     "input": [
      "semi_picks_counter = Counter(semi_picks)\n",
      "print semi_picks_counter"
     ],
     "language": "python",
     "metadata": {},
     "outputs": [
      {
       "output_type": "stream",
       "stream": "stdout",
       "text": [
        "Counter({'Brazil': 17, 'Argentina': 12, 'Spain': 10, 'Germany': 7, 'Netherlands': 3, 'Switzerland': 2, 'Italy': 1, 'Portugal': 1, 'Uruguay': 1, 'France': 1, 'Ivory Coast': 1})\n"
       ]
      }
     ],
     "prompt_number": 33
    },
    {
     "cell_type": "code",
     "collapsed": false,
     "input": [
      "s = pd.Series (semi_picks)"
     ],
     "language": "python",
     "metadata": {},
     "outputs": [],
     "prompt_number": 34
    },
    {
     "cell_type": "code",
     "collapsed": false,
     "input": [
      "semi_picks_counter = s.value_counts()\n",
      "#semi_picks_counter = semi_picks_counter.sort_index()"
     ],
     "language": "python",
     "metadata": {},
     "outputs": [],
     "prompt_number": 35
    },
    {
     "cell_type": "code",
     "collapsed": false,
     "input": [
      "semi_picks_counter.plot(kind='bar')\n",
      "title('Countries picked to reach finals')"
     ],
     "language": "python",
     "metadata": {},
     "outputs": [
      {
       "metadata": {},
       "output_type": "pyout",
       "prompt_number": 36,
       "text": [
        "<matplotlib.text.Text at 0x450d7d0>"
       ]
      },
      {
       "metadata": {},
       "output_type": "display_data",
       "png": "[encoded data removed]",
       "text": [
        "<matplotlib.figure.Figure at 0x417a8d0>"
       ]
      }
     ],
     "prompt_number": 36
    },
    {
     "cell_type": "markdown",
     "metadata": {},
     "source": [
      "# Tie breakers"
     ]
    },
    {
     "cell_type": "code",
     "collapsed": false,
     "input": [
      "tiebreaker_picks = []\n",
      "for ifile, bracket in all_brackets.iteritems(): \n",
      "    print ifile\n",
      "    print bracket.tie_breaker\n",
      "    try: \n",
      "        tiebreaker_picks.append(float(bracket.tie_breaker))\n",
      "    except:\n",
      "        pass"
     ],
     "language": "python",
     "metadata": {},
     "outputs": [
      {
       "output_type": "stream",
       "stream": "stdout",
       "text": [
        "AdamDyer.csv\n",
        "205.0\n",
        "ShireenGarrow.csv\n",
        "158.0\n",
        "SandyNader.csv\n",
        "150.0\n",
        "MonicaGagnon.csv\n",
        "182.0\n",
        "MichalKlos.csv\n",
        "150.0\n",
        "MattFrantz.csv\n",
        "198.0\n",
        "AlexBarlow.csv\n",
        "198.0\n",
        "AmanAhuja.csv\n",
        "\n",
        "AnyaKandel.csv\n",
        "138.0\n",
        "DarrenMace.csv\n",
        "184.0\n",
        "AshleyLalezari.csv\n",
        "137.0\n",
        "ManishaDaryani.csv\n",
        "117.0\n",
        "RobertGarrow.csv\n",
        "156.0\n",
        "DanMorris.csv\n",
        "169.0\n",
        "DavidOnne.csv\n",
        "93.0\n",
        "MattJohnson.csv\n",
        "142.0\n",
        "ChristopherBrown.csv\n",
        "192.0\n",
        "DavidMorley.csv\n",
        "42.0\n",
        "DavidDunlop.csv\n",
        "128.0\n",
        "FarzinLalezari.csv\n",
        "146.0\n",
        "TiffanyAnn.csv\n",
        "\n",
        "EliMenaker.csv\n",
        "22.0\n",
        "ArianLalezari.csv\n",
        "152.0\n",
        "DanielYaffe.csv\n",
        "51.0\n",
        "AmerHandan.csv\n",
        "142.0\n",
        "NateGagnon.csv\n",
        "224.0\n",
        "MichaelBlackwell-Tompkins.csv\n",
        "149.0\n",
        "SamLouis.csv\n",
        "150.0\n"
       ]
      }
     ],
     "prompt_number": 48
    },
    {
     "cell_type": "code",
     "collapsed": false,
     "input": [
      "s = pd.Series(tiebreaker_picks, dtype='int')"
     ],
     "language": "python",
     "metadata": {},
     "outputs": [],
     "prompt_number": 51
    },
    {
     "cell_type": "code",
     "collapsed": false,
     "input": [
      "s.describe()"
     ],
     "language": "python",
     "metadata": {},
     "outputs": [
      {
       "metadata": {},
       "output_type": "pyout",
       "prompt_number": 52,
       "text": [
        "count     26.000000\n",
        "mean     145.192308\n",
        "std       49.008586\n",
        "min       22.000000\n",
        "25%      137.250000\n",
        "50%      150.000000\n",
        "75%      178.750000\n",
        "max      224.000000\n",
        "dtype: float64"
       ]
      }
     ],
     "prompt_number": 52
    },
    {
     "cell_type": "code",
     "collapsed": false,
     "input": [
      "s.plot(kind='kde', bw_method = .2, xlim=(0,250))\n",
      "title('Distribution of tie breaker picks in WC Bracket')\n",
      "xlabel('# of goals predicted')"
     ],
     "language": "python",
     "metadata": {},
     "outputs": [
      {
       "metadata": {},
       "output_type": "pyout",
       "prompt_number": 75,
       "text": [
        "<matplotlib.text.Text at 0x739add0>"
       ]
      },
      {
       "metadata": {},
       "output_type": "display_data",
       "png": "[encoded data removed]",
       "text": [
        "<matplotlib.figure.Figure at 0x6c82dd0>"
       ]
      }
     ],
     "prompt_number": 75
    },
    {
     "cell_type": "code",
     "collapsed": false,
     "input": [],
     "language": "python",
     "metadata": {},
     "outputs": [],
     "prompt_number": 73
    }
   ],
   "metadata": {}
  }
 ]
}