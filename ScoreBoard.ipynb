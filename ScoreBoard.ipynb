{
 "metadata": {
  "name": "",
  "signature": "sha256:45dca0c26901ecff568444f97e9f1603eb892dc02daf9a9b15179a81db326054"
 },
 "nbformat": 3,
 "nbformat_minor": 0,
 "worksheets": [
  {
   "cells": [
    {
     "cell_type": "code",
     "collapsed": false,
     "input": [
      "import os\n",
      "from bracket import Bracket"
     ],
     "language": "python",
     "metadata": {},
     "outputs": [],
     "prompt_number": 1
    },
    {
     "cell_type": "code",
     "collapsed": false,
     "input": [
      "INPUT_DIR = os.path.join('submissions', 'csv')"
     ],
     "language": "python",
     "metadata": {},
     "outputs": [],
     "prompt_number": 2
    },
    {
     "cell_type": "code",
     "collapsed": false,
     "input": [
      "file_names = os.listdir(INPUT_DIR)"
     ],
     "language": "python",
     "metadata": {},
     "outputs": [],
     "prompt_number": 3
    },
    {
     "cell_type": "code",
     "collapsed": false,
     "input": [
      "import bracket\n",
      "reload(bracket)\n",
      "from bracket import Bracket"
     ],
     "language": "python",
     "metadata": {},
     "outputs": [],
     "prompt_number": 4
    },
    {
     "cell_type": "markdown",
     "metadata": {},
     "source": [
      "# get all the brackets"
     ]
    },
    {
     "cell_type": "code",
     "collapsed": false,
     "input": [
      "file_names = os.listdir(INPUT_DIR)"
     ],
     "language": "python",
     "metadata": {},
     "outputs": [],
     "prompt_number": 5
    },
    {
     "cell_type": "code",
     "collapsed": false,
     "input": [
      "all_brackets = {}\n",
      "for ifile in file_names: \n",
      "    print 'processing ', ifile\n",
      "    fname = os.path.join(INPUT_DIR, ifile)\n",
      "    bracket = Bracket(fname)\n",
      "    all_brackets[ifile] = bracket\n"
     ],
     "language": "python",
     "metadata": {},
     "outputs": [
      {
       "output_type": "stream",
       "stream": "stdout",
       "text": [
        "processing  DanMorris.csv\n",
        "processing  DavidDunlop.csv\n",
        "processing  DanielYaffe.csv\n",
        "processing "
       ]
      },
      {
       "output_type": "stream",
       "stream": "stdout",
       "text": [
        " EliMenaker.csv\n",
        "processing  FarzinLalezari.csv\n",
        "processing  ArianLalezari.csv\n",
        "processing "
       ]
      },
      {
       "output_type": "stream",
       "stream": "stdout",
       "text": [
        " MattJohnson.csv\n",
        "processing  ChristopherBrown.csv\n",
        "processing  AmerHandan.csv\n",
        "processing "
       ]
      },
      {
       "output_type": "stream",
       "stream": "stdout",
       "text": [
        " MonicaGagnon.csv\n",
        "processing  MattFrantz.csv\n",
        "processing  TiffanyAnn.csv\n",
        "processing "
       ]
      },
      {
       "output_type": "stream",
       "stream": "stdout",
       "text": [
        " RobertGarrow.csv\n",
        "processing  MichaelBlackwell-Tompkins.csv\n",
        "processing  MichalKlos.csv\n",
        "processing "
       ]
      },
      {
       "output_type": "stream",
       "stream": "stdout",
       "text": [
        " AnyaKandel.csv\n",
        "processing  NateGagnon.csv\n",
        "processing  AshleyLalezari.csv\n",
        "processing "
       ]
      },
      {
       "output_type": "stream",
       "stream": "stdout",
       "text": [
        " DavidOnne.csv\n",
        "processing  AmanAhuja.csv\n",
        "processing  ManishaDaryani.csv\n",
        "processing "
       ]
      },
      {
       "output_type": "stream",
       "stream": "stdout",
       "text": [
        " DavidMorley.csv\n",
        "processing  SandyNader.csv\n",
        "processing "
       ]
      },
      {
       "output_type": "stream",
       "stream": "stdout",
       "text": [
        " SamLouis.csv\n",
        "processing  ShireenGarrow.csv\n",
        "processing  AlexBarlow.csv\n",
        "processing "
       ]
      },
      {
       "output_type": "stream",
       "stream": "stdout",
       "text": [
        " DarrenMace.csv\n",
        "processing  AdamDyer.csv\n"
       ]
      }
     ],
     "prompt_number": 6
    },
    {
     "cell_type": "markdown",
     "metadata": {},
     "source": [
      "# Get the scoreboard"
     ]
    },
    {
     "cell_type": "code",
     "collapsed": false,
     "input": [
      "from operator import itemgetter"
     ],
     "language": "python",
     "metadata": {},
     "outputs": [],
     "prompt_number": 7
    },
    {
     "cell_type": "code",
     "collapsed": false,
     "input": [
      "all_scores = {}\n",
      "for bracket in all_brackets.itervalues():\n",
      "    k = '{} ({})'.format(bracket.name, bracket.realname)\n",
      "    all_scores[k] = bracket.score"
     ],
     "language": "python",
     "metadata": {},
     "outputs": [],
     "prompt_number": 8
    },
    {
     "cell_type": "code",
     "collapsed": false,
     "input": [
      "scorelist = sorted(all_scores.iteritems(), key=itemgetter(1), reverse=True)"
     ],
     "language": "python",
     "metadata": {},
     "outputs": [],
     "prompt_number": 9
    },
    {
     "cell_type": "code",
     "collapsed": false,
     "input": [
      "for n,s in scorelist: \n",
      "    print \"{} : {}\".format(n,s)"
     ],
     "language": "python",
     "metadata": {},
     "outputs": [
      {
       "output_type": "stream",
       "stream": "stdout",
       "text": [
        "Lionel Messi's PED Examiner (Matt Frantz) : 11\n",
        "Dutch Rudder (Eli Menaker) : 11\n",
        "Fiscal_Responsibility (Amer Handan) : 10\n",
        "Dan Morris (Dan Morris) : 10\n",
        "Pick from Downtown (Chris Brown) : 9\n",
        "Shir (Shireen Garrow) : 9\n",
        "Double D (David Dunlop) : 9\n",
        "Rumo ao hexa (Arian Lalezari) : 9\n",
        "Nate the Great (Nate) : 9\n",
        "NostrADAMus (Adam Dyer) : 9\n",
        "Alex Barlow (Alex Barlow) : 9\n",
        "Game of Balls (Michal Klos) : 9\n",
        "Aman (Aman Ahuja) : 8\n",
        "Anya (Anya) : 8\n",
        "RGarrow (Robert Garrow) : 8\n",
        "AshLalezari (Ashley Lalezari) : 8\n",
        "mehmattski (Matt Johnson) : 8\n",
        "Dusty (Dusty) : 8\n",
        "Tiff (Tiffany Ann Fields) : 8\n",
        "Yaffe (Daniel Yaffe) : 7\n",
        "Onne (David Onne) : 7\n",
        "Bosnia4Lyfe (Sandy Nader) : 7\n",
        "Farzin (Farzin Lalezari) : 7\n",
        "MoGag might win (Monica Gagnon) : 7\n",
        "Djtmorley (David Morley) : 7\n",
        "Ft. Lauderdale Strikers 4 Life (Sam) : 6\n",
        "The \"Ultimate\" World Cup! (Darren Mace) : 6\n",
        "Slap (Manisha Daryani) : 6\n"
       ]
      }
     ],
     "prompt_number": 12
    },
    {
     "cell_type": "code",
     "collapsed": false,
     "input": [],
     "language": "python",
     "metadata": {},
     "outputs": [],
     "prompt_number": 10
    },
    {
     "cell_type": "code",
     "collapsed": false,
     "input": [],
     "language": "python",
     "metadata": {},
     "outputs": []
    }
   ],
   "metadata": {}
  }
 ]
}